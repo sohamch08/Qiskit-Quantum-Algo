{
 "cells": [
  {
   "cell_type": "markdown",
   "id": "d30eb70d",
   "metadata": {},
   "source": [
    "## Programming Assignment 4 - Kushlevitz and Mansour Algorithm"
   ]
  },
  {
   "cell_type": "markdown",
   "id": "ad399c95",
   "metadata": {},
   "source": [
    "Fill in your details in the below cell. \\\n",
    "Your Name :  Soham Chatterjee\\\n",
    "ID : BMC202175\n",
    "\n",
    "Rename the notebook with your ID as a suffix before submitting in the moodle page."
   ]
  },
  {
   "cell_type": "markdown",
   "id": "030510e2",
   "metadata": {},
   "source": [
    "### Randomized Algorithms\n",
    "Randomized algorithms and probabilistic methods play a key role in modern computer science. Randomized algorithms make random choices during their execution and achieve results with certain accuracy within a reasonable time. In today's exercise, we are going to see how randomized algorithms can be efficient as compared to their brute-force counterparts using a well-known algorithm to learn boolean functions called \"Kushlevitz-Mansour\" (KM) algorithm.\n",
    "\n",
    "This is a primer for the classes starting from Tuesday i.e., Nov 7 where we will be looking at how to exploit boolean functions, fourier analysis in both classical and quantum to develop new ideas for Quantum Algorithmic design."
   ]
  },
  {
   "cell_type": "markdown",
   "id": "11ca8666",
   "metadata": {},
   "source": [
    "### Background\n",
    "* Consider a boolean function of three inputs $x_1,x_2,x_3 \\in \\{-1,+1\\}$ whose output is determined by the expression $f = 0.5 + 0.5x_2 + 0.5x_3 - 0.5x_2x_3$.\n",
    "* In general, for a 3-variable boolean function, there are 8 (2^3) possible terms $(\\phi, x_1, x_2, x_3, x_1x_2, x_1x_3, x_2x_3, x_1x_2x_3)$. But for the above case we can see that only 4 monomial terms are present. \n",
    "* These coefficients are called as fourier coefficients and the set of these coefficients is called as a fourier spectrum.\n",
    "* Now, consider learning the expression when the number of variables is large, say n=200. It will require a truth table of entries 2^200 which is impossible to store in the memory let alone computing the spectrum in a brute-force approach.\n",
    "* This is where randomized algorithms like Kushlevitz-Mansour come to the rescue.\n",
    "* KM algorithm outputs an expression which is close to the original function, in polynomial time, given the set of fourier coefficients is sparse. Such functions are usually referred to as *concentrated* boolean functions."
   ]
  },
  {
   "cell_type": "markdown",
   "id": "11807066",
   "metadata": {},
   "source": [
    "## Kushlevitz - Mansour Algorithm \n",
    "* References:\n",
    "  1. LEARNING DECISION TREES USING THE FOURIER SPECTRUM https://dl.acm.org/doi/pdf/10.1145/103418.103466 \n",
    "  2. Implementation Issues in the Fourier Transform Algorithm: https://link.springer.com/article/10.1023/A:1011034100370 \n",
    "  \n",
    "* Assumptions: \n",
    "  1. Query access to an oracle to the target function must be available to query it for a given input.\n",
    "  2. Fourier spectra of the function is concentrated.\n",
    "\n",
    "* Principle: The approach works by iteratively growing the strings corresponding to the monimial terms (prefix), estimate the corresponding fourier coefficient and thereafter prune the strings whose fourier coefficient is not larger than a given *threshold*. The pruning allows us to significantly reduce the number of monimial terms to be explored without comprimising on the final accuracy.\n",
    "\n",
    "**Note: This algorithm is equivalently applicable for both Boolean Valued Boolean Function as well as Real Valued Boolean Function**"
   ]
  },
  {
   "cell_type": "markdown",
   "id": "9b1d0d25",
   "metadata": {},
   "source": [
    "## Algorithm \n",
    "* Important parameters: $n, \\alpha, k, m_1, m_2, \\theta, \\delta$\n",
    "    * n - Problem size in terms of input variables. \n",
    "    * $\\theta$ and $\\delta$ are threshold parameters. We can set these values to as per the required accuracy and probabilistic guarantee. Smaller the threshold, higher the accuracy however has increased execution time. So, there is always a trade-off.\n",
    "    * m1 and m2 are repetition parameters. How many number of random inputs to be selected to compute significance of an alpha value.\n",
    "        * $ m1 = floor((1/\\theta^2)*log2(n/(\\delta*\\theta^2)))$ \n",
    "        *  $m2 = floor((1/\\theta^4)*log2(n*m1/(\\delta*\\theta^2)))$\n",
    "    *  Experimentally, values of m1 and m2 are found to be good even when restricted as m1 <=100 and m2 <= $5/(\\theta^2)$ [2]\n",
    "    *  k = Divide input bit string into two parts of size k and (n-k). Start from k = 1 and increment k by 1 upto n\n",
    "    *  $\\alpha$ = element in the set S, where S = {Set of all those input combinations of k bits for which $\\beta_\\alpha \\geq$  threshold = $\\theta^2/2$}\n",
    "        * For k=1, $\\alpha = [0,1]$\n",
    "        * For each $\\alpha$"
   ]
  },
  {
   "cell_type": "markdown",
   "id": "c0456652",
   "metadata": {},
   "source": [
    "The algorithm can be explained using two subroutines Coeff($\\alpha$) and Approx($\\alpha$) as follows\\\n",
    "SUBROUTINE Coeff($\\alpha$)\n",
    "* $\\beta_\\alpha$ = Approx($\\alpha$)  // $\\beta_\\alpha$ estimates the total value of fourier coefficients that share the prefix with $\\alpha$ \n",
    "    * IF $\\beta_\\alpha \\geq \\theta^2/2$ THEN\n",
    "        * IF $|\\alpha| == n$ THEN Output $\\alpha$\n",
    "    * ELSE Coeff($\\alpha 0$); Coeff($\\alpha 1$) // Explore"
   ]
  },
  {
   "cell_type": "markdown",
   "id": "903ec1e8",
   "metadata": {},
   "source": [
    "Consider for a $l$-bit binary string $\\alpha \\in \\{0,1\\}^l$, the corresponding monomial $\\chi_{\\alpha} = \\prod_{i}x_i^{\\alpha[i]}$ and the value $\\chi_{\\alpha}(z) = (-1)^{\\alpha.z}$ for any $z \\in \\{0,1\\}^l$.\\\n",
    "SUBROUTINE Approx($\\alpha$):\n",
    "* Choose at random $x_i \\in \\{0,1\\}^{n-k}$ for $1\\leq i\\leq m_1$\n",
    "* For each $x_i$\n",
    "    * Choose at random $y_{i,j} \\in \\{0,1\\}^{k}$ for $1\\leq j \\leq m_2$\n",
    "        * Let $A_i = \\frac{1}{m_2}\\sum\\limits_{j=1}^{m_2}f(y_{i,j}x_i)\\chi_{\\alpha}(y_{i,j})$\n",
    "* Compute $\\beta_\\alpha = \\frac{1}{m_1}\\sum\\limits_{i=1}^{m_1}A_i^2$\n",
    "* Output $\\beta_\\alpha$"
   ]
  },
  {
   "cell_type": "markdown",
   "id": "fdfe8551",
   "metadata": {},
   "source": [
    "### Input problem\n",
    "For a boolean function given below, Implement Kushlevitz and Mansour Algorithm to find best approximation of $f$ using the largest fourier coefficients. Also compare this spectrum with the fourier spectrum obtained using Brute-Force Method.\n",
    "* Consider the function $f : \\{-1,1\\}^3 \\rightarrow \\{-1,+1\\}$ described above whose truth table can be given as:\n",
    "<div align=\"center\">\n",
    "\n",
    "| x | f(x) |\n",
    "| :---: | :---: | \n",
    "| 1,1,1 | 1 |\n",
    "| 1,1,-1 | 1 |\n",
    "| 1,-1,1 | 1 |\n",
    "| 1,-1,-1 | -1 |\n",
    "| -1,1,1 | 1 |\n",
    "| -1,1,-1 | 1 |\n",
    "| -1,-1,1 | 1 |\n",
    "| -1,-1,-1 | -1 |\n",
    "\n",
    "</div>\n",
    "\n",
    "Throughout the rest of this exercise, we will use the domain of boolean variables to be either $\\{0,1\\}$ or $\\{-1,+1\\}$. Clearly, one can be transformed to another through change of basis."
   ]
  },
  {
   "cell_type": "markdown",
   "id": "d79c02a0",
   "metadata": {},
   "source": [
    "## Output\n",
    "Find the fourier expansion of the majority function using KM algorithm"
   ]
  },
  {
   "cell_type": "markdown",
   "id": "d38444bc",
   "metadata": {},
   "source": [
    "## Code Implementation"
   ]
  },
  {
   "cell_type": "markdown",
   "id": "49f9cfb4",
   "metadata": {},
   "source": [
    "### Import all the necessary libraries numpy, math, random, time"
   ]
  },
  {
   "cell_type": "code",
   "execution_count": 1,
   "id": "a7fdc4a7",
   "metadata": {
    "tags": []
   },
   "outputs": [],
   "source": [
    "# Import all the necessary libraries numpy, math, random, time\n",
    "import numpy as np                                    \n",
    "import math\n",
    "import random\n",
    "import time\n",
    "seed = np.random.seed(0)"
   ]
  },
  {
   "cell_type": "markdown",
   "id": "195cdc65",
   "metadata": {},
   "source": [
    "### 1. Define parameters"
   ]
  },
  {
   "cell_type": "code",
   "execution_count": 2,
   "id": "757fb2e4",
   "metadata": {
    "tags": []
   },
   "outputs": [
    {
     "name": "stdout",
     "output_type": "stream",
     "text": [
      "27 20\n"
     ]
    }
   ],
   "source": [
    "\"\"\"\n",
    " Define parameters\n",
    " n - Problem size in terms of input variables. Change it as per the problem size\n",
    " theta,delta,m1,m2 - Parameters defined in the algorithm\n",
    "\"\"\"\n",
    "n = 3              \n",
    "theta = 0.5                # Theta and delta parameters, feel free to change\n",
    "delta = 0.1\n",
    "\n",
    "# Expression for m1 and m2\n",
    "\n",
    "m1 = int((1/theta**2)*math.log2(n/(delta*theta**2))) \n",
    "m2 = int((1/theta**4)*math.log2(n*m1/(delta*theta**2)))\n",
    "\n",
    "\n",
    "\"\"\"\n",
    "    Values of m1 and m2 are usually restricted to be m1<=100 and m2 ,= 5/(theta**2)\n",
    "\"\"\"\n",
    "\n",
    "if(m1>=100):\n",
    "    m1 = 100\n",
    "m2_max = math.ceil(5/(theta**2))\n",
    "if(m2>=m2_max):\n",
    "    m2 = m2_max\n",
    "\n",
    "print(m1,m2)"
   ]
  },
  {
   "cell_type": "markdown",
   "id": "8451f965",
   "metadata": {},
   "source": [
    "### 2. Define access to the function"
   ]
  },
  {
   "cell_type": "code",
   "execution_count": 3,
   "id": "e5ec60e1",
   "metadata": {
    "tags": []
   },
   "outputs": [],
   "source": [
    "def f_val(x):\n",
    "    f = [1,1,1,-1,1,1,1,-1]\n",
    "    return f[x]"
   ]
  },
  {
   "cell_type": "markdown",
   "id": "8a502563",
   "metadata": {},
   "source": [
    "### 3. Helper Functions\n",
    "To make the final implementation more modular, following two function definitions are added which can be used as needed in the final program.\n",
    "1. generate_binary_string(l): Function to generate a random bit string of length l. This is helpful while estimating the value of $\\beta_\\alpha$\n",
    "\n",
    "2. dot(a,b): Function to compute the dot product of two binary strings $a,b$ given as $\\sum a[i].b[i]$. During the estimation of $\\beta_\\alpha$ we see that $\\chi_\\alpha(y_{i,j})$ is computed repeatedly."
   ]
  },
  {
   "cell_type": "code",
   "execution_count": 4,
   "id": "b2e2b177",
   "metadata": {
    "tags": []
   },
   "outputs": [],
   "source": [
    "\"\"\"\n",
    "    -Function to generate a random binary string of size l bits\n",
    "\"\"\"\n",
    "def generate_binary_string(l):\n",
    "    bin_string = []\n",
    "    for i in range(l):\n",
    "        bin_string.append(random.randint(0,1))\n",
    "    \n",
    "    return bin_string"
   ]
  },
  {
   "cell_type": "code",
   "execution_count": 5,
   "id": "5dda6006-bf4b-44ff-adbc-5df833bf2a51",
   "metadata": {
    "tags": []
   },
   "outputs": [],
   "source": [
    "def bin_to_dec(b):\n",
    "    n = 0\n",
    "    for i in range(len(b)):\n",
    "        n = n + (2**(i))*(b[i])\n",
    "    return n"
   ]
  },
  {
   "cell_type": "code",
   "execution_count": 6,
   "id": "dbe80854-6d6a-48fe-a62b-ff6eb2ae1f8d",
   "metadata": {
    "tags": []
   },
   "outputs": [],
   "source": [
    "def exponent(a,b):\n",
    "    if a == 0:\n",
    "        return 1\n",
    "    elif a == 1:\n",
    "        return b\n",
    "    elif a % 2 == 0:\n",
    "        n = exponent(a//2 , b)\n",
    "        return n*n\n",
    "    else:\n",
    "        n = exponent(a//2, b)\n",
    "        return (n*n)*b"
   ]
  },
  {
   "cell_type": "code",
   "execution_count": 7,
   "id": "8b544148",
   "metadata": {
    "tags": []
   },
   "outputs": [],
   "source": [
    "def dot(a,b):\n",
    "    length = len(a)\n",
    "    norm = 0\n",
    "    for i in range(length):\n",
    "        norm = norm + a[i]*b[i]\n",
    "        \n",
    "    return norm\n"
   ]
  },
  {
   "cell_type": "markdown",
   "id": "2857dea1",
   "metadata": {},
   "source": [
    "### 4. Two main subroutines of the algorithm"
   ]
  },
  {
   "cell_type": "code",
   "execution_count": 8,
   "id": "ffdbd71d",
   "metadata": {
    "tags": []
   },
   "outputs": [],
   "source": [
    "\"\"\"\n",
    "    - SUBROUTINE Approx(alpha,k)\n",
    "    - Returns an estimate of the significance of the fourier coefficient whose prefix is alpha, where length of alpha is k. \n",
    "\"\"\"\n",
    "def approx(alpha, k):\n",
    "    \"\"\"\n",
    "        - Special case: k==n; # for k==n case, there is no list of x_i s\n",
    "        - Generate yij_list. This has two cases, 2**(k)<=m2 and 2**(k)>m2. We chose the length of yij to be min of either. \n",
    "        - Compute A_i by iterating of yij and beta_alpha (Recall that there is only one i in this case)\n",
    "    \"\"\"\n",
    "    min1 = min(m1, exponent(n-k,2))\n",
    "    min2 = min(m2, exponent(k,2))\n",
    "    if(k==n):\n",
    "        ## Write your code here for the case when k==n\n",
    "        yi = []\n",
    "        for j in range(min2):\n",
    "            yij = generate_binary_string(n)\n",
    "            yi.append(yij)\n",
    "        A_i = 0\n",
    "        for j in range(min2):\n",
    "            # value of sum f(yij) xhi_alpha(yij)\n",
    "            A_i = (f_val(bin_to_dec(yi[j])))*((-1)**(dot(alpha, yi[j]))) + A_i \n",
    "        A_i = A_i/min2 # approximated value of f_alpha(xi)\n",
    "        return [A_i**2, A_i] # keeps track of the expected fourier coefficient when n==k\n",
    "    else:\n",
    "        \"\"\"\n",
    "            1. Generate xi_list. This has two cases, 2**(n-k)<=m1 and 2**(n-k)>m1. We chose the length of xi to be min of either.\n",
    "            2. Generate yij_list. This has two cases, 2**(k)<=m2 and 2**(k)>m2. We chose the length of yij to be min of either.\n",
    "            3. Iterate over x_i and y_ij and compute A_i and finally beta_alpha\n",
    "        \"\"\"\n",
    "        # Part-1: Write a code to Generate random Xi string\n",
    "        beta_alpha = 0\n",
    "        A = []\n",
    "        for i in range(min1):\n",
    "            xi = generate_binary_string(n-k)\n",
    "            yi = []\n",
    "        # -----------------------------------------------------------------------\n",
    "        # Part -2 :  Write a code to Generate random Yi string\n",
    "            for j in range(min2):\n",
    "                yij = generate_binary_string(k)\n",
    "                yi.append(yij)\n",
    "            \n",
    "        #------------------------------------------------------------\n",
    "        # Part 3: Iterate over xi and yj and compute Ai and beta_alpha\n",
    "            A_i = 0\n",
    "            for j in range(min2):\n",
    "                # value of sum f(yij xi) xhi_alpha(yij)\n",
    "                A_i = (f_val(bin_to_dec(xi+yi[j])))*((-1)**(dot(alpha, yi[j]))) + A_i\n",
    "            A_i = A_i/min2 # value of f_alpha(xi)\n",
    "            A.append(A_i)\n",
    "        for i in range(min1):\n",
    "            beta_alpha = beta_alpha + (A[i]**2)\n",
    "        beta_alpha = beta_alpha/min1\n",
    "        return [beta_alpha, beta_alpha] # keeps track of the expected fourier coefficient"
   ]
  },
  {
   "cell_type": "code",
   "execution_count": 9,
   "id": "569546e2",
   "metadata": {
    "tags": []
   },
   "outputs": [],
   "source": [
    "\"\"\"\n",
    "    SUBROUTINE Coef(alpha,k)\n",
    "    Input: alpha value, k - Size of alpha\n",
    "    Output: Set of binary strings corresponding to the monomials with largest fourier coefficients \n",
    "    This function is called recursively call till k==n by extending the prefix with both '0' and '1' \n",
    "    and pruned as needed (refer to the algorithm).\n",
    "\"\"\"\n",
    "\n",
    "def Coef(alpha,k, list):\n",
    "    # Compute B_alpha for each value of alpha and keep those alpha values for which B_alpha> threshold\n",
    "    # Write your code here\n",
    "    B_alpha_list = approx(alpha, k)\n",
    "    if B_alpha_list[0] >= (theta**2)/2:\n",
    "        if k == n:  \n",
    "            list.append([alpha, B_alpha_list[1]])  \n",
    "        else:\n",
    "            Coef(alpha+[0], k+1, list)   \n",
    "            Coef(alpha+[1], k+1, list)\n",
    "    \n",
    "            "
   ]
  },
  {
   "cell_type": "markdown",
   "id": "16894c79",
   "metadata": {},
   "source": [
    "### Call to SUBROUTINE Coef(alpha)"
   ]
  },
  {
   "cell_type": "code",
   "execution_count": 10,
   "id": "5ac5f5f4",
   "metadata": {
    "tags": []
   },
   "outputs": [
    {
     "name": "stdout",
     "output_type": "stream",
     "text": [
      "[[[0, 1, 0], 0.5], [[0, 1, 1], 0.75], [[1, 0, 1], -0.5], [[1, 1, 0], -0.75]]\n"
     ]
    }
   ],
   "source": [
    "if __name__ == '__main__':\n",
    "    k=1\n",
    "    alpha = [0]\n",
    "    coephs = []\n",
    "    Coef([], 0, coephs)  # starting with 0 then we will recurse on adding new bits\n",
    "    print(coephs)"
   ]
  },
  {
   "cell_type": "code",
   "execution_count": 13,
   "id": "8fa86b94",
   "metadata": {
    "tags": []
   },
   "outputs": [
    {
     "name": "stdout",
     "output_type": "stream",
     "text": [
      "0.5*x_2 + 0.75*x_2x_1 + (-0.5)*x_3x_1 + (-0.75)*x_3x_2"
     ]
    }
   ],
   "source": [
    "# Using the alpha values and the corresponding fourier estimates, create the fourier expansion of the majority function\n",
    "# You can output the expression as a string and print below\n",
    "def bin_to_coefficient(lst):\n",
    "    strg = \"\"\n",
    "    flag = True\n",
    "    for i in range(len(lst)):\n",
    "        if lst[i] == 1:\n",
    "            strg = strg + \"x_\" + str(len(lst)-i)\n",
    "            flag = False\n",
    "    if flag:\n",
    "        strg = strg + '1'\n",
    "        return strg\n",
    "    return strg\n",
    "to_print = []       \n",
    "for coefficient in coephs:\n",
    "    if coefficient[1] < 0:\n",
    "        to_print.append('(')\n",
    "        to_print.append(str(coefficient[1]))\n",
    "        to_print.append(')')\n",
    "    else:\n",
    "        to_print.append(str(coefficient[1]))\n",
    "        \n",
    "    to_print.append('*')\n",
    "    to_print.append(bin_to_coefficient(coefficient[0]))\n",
    "    to_print.append(' + ')\n",
    "for item in to_print[:-1]:\n",
    "    print(item, end=\"\")"
   ]
  },
  {
   "cell_type": "markdown",
   "id": "b545bcb0",
   "metadata": {},
   "source": [
    "For interested students, below are some more examples of the concentrated functions with increasing problem size. You can see that the efficiency of the KM algorithm is more pronounced as the problem size increases. \n",
    "\n",
    "Also provided insights to how we can further improve the speed of the algorithm further using parallel processing ability of modern day processors.\n",
    "\n",
    "__Please note that the below exercises are not part of the evaluation__"
   ]
  },
  {
   "cell_type": "markdown",
   "id": "767a9753",
   "metadata": {},
   "source": [
    "## Optional 1: K-Junta Function\n",
    "* A function $f:\\{-1,1\\}^n \\rightarrow \\{-1,1\\}$  is called a k-junta function for $k < n$, if the output strictly depends on just $k$ inputs.\n",
    "* You can verify that the function we solved above is $2$-junta\n",
    "* Here we generate a random function of 5 variables and repeat the same output for $2^{15}$ times which shall give us a $5$-junta function of input size $200$"
   ]
  },
  {
   "cell_type": "code",
   "execution_count": null,
   "id": "f3c55ea0",
   "metadata": {},
   "outputs": [],
   "source": [
    "\"\"\"\n",
    "    Ex. 5: Generate a random function f\n",
    "\"\"\"  \n",
    "n = 5\n",
    "N = 2**n\n",
    "f = []\n",
    "for i in range(N):\n",
    "    f.append((-1)**np.random.randint(0,2))\n",
    "#print(f)\n",
    "#for i in range(len(f)):\n",
    "#    f[i] = (-1)**np.random.randint(0,2)\n",
    "print(f)\n",
    "def f_val(a_int):\n",
    "    a = a_int % N\n",
    "    return f[a]"
   ]
  },
  {
   "cell_type": "markdown",
   "id": "94e44f7f",
   "metadata": {},
   "source": [
    "## Optional 2: Multithreading and Multiprocessing are important coding practices to use the available computing power of your machine and reduce the execution time. It implements the parallel processing mechanism using all the cpu cores of your machines.\n",
    "* Two alternatives for parallel processing are 1. Multi-threading 2. Multi-Processing\n",
    "* However, Multi-threading is not possible with this algorithm....find out why?\n",
    "* Multi-processing is possible. Hint: p = multiprocessing.Pool() and p.map()\n",
    "* A problem of size n=200 variables, with m1 = 100 and m2 = 500 repetitions, takes in general 11 Hours to complete the execution\n",
    "* With multi-processing, this time is reduced to 2 Hours on the same machine using all its available 16 cores of the processor"
   ]
  },
  {
   "cell_type": "markdown",
   "id": "70264398",
   "metadata": {},
   "source": [
    "## Optional 3: Random functions with large number of inputs"
   ]
  },
  {
   "cell_type": "code",
   "execution_count": null,
   "id": "84d8b035",
   "metadata": {},
   "outputs": [],
   "source": [
    "# Generate a random function. One example is shown below\n",
    "#f = (x32 © x8 © x34 © x13) AND (x33 © x20 © x9 © x1 © x15 © x39) OR (x24 © x10 © x27 © x6 © x34)\n",
    "# f = f1 and f2 or f3\n",
    "n = 40\n",
    "\n",
    "# Hardcode the f1,f2,f3 lists as \n",
    "f1_list = [32,8,34,13]\n",
    "f2_list = [33,20,9,1,15,39]\n",
    "f3_list = [24,10,27,6,34]\n",
    "f_list = set(f1_list + f2_list + f3_list )\n",
    "\n",
    "# OR Generate f1_list, f2_list, f3_list randomly as below\n",
    "\n",
    "f1_l1 = 7\n",
    "f2_l2 = 5\n",
    "f3_l3 = 8\n",
    "f4_l4 = 4\n",
    "f1_list,f2_list,f3_list,f4_list = [],[],[],[]\n",
    "f = []\n",
    "i=0\n",
    "while(i<f1_l1):\n",
    "    r=random.randint(1,n)\n",
    "    if r not in f1_list:\n",
    "        f1_list.append(r)\n",
    "        i = i+1\n",
    "    else:\n",
    "        pass\n",
    "\n",
    "# Write similar code for f2_l2, f3_l3, f4_l4\n",
    "f_list = set(f1_list + f2_list + f3_list + f4_list)\n",
    "print(f' f1_list data is {f1_list}')\n",
    "print(f' f2_list data is {f2_list}')\n",
    "print(f' f3_list data is {f3_list}')\n",
    "print(f' f4_list data is {f4_list}')\n",
    "print(f' f_list data is {f_list}')\n",
    "\n",
    "\n",
    "def count(f_bits):\n",
    "    f_ = f_bits.count(1)\n",
    "    if (f_%2==0):\n",
    "        return 0\n",
    "    else:\n",
    "        return 1\n",
    "    \n",
    "    \n",
    "def f_val(a_int):\n",
    "    a = bin(a_int)[2:].zfill(n)\n",
    "    f1_bits = []\n",
    "    f2_bits = []\n",
    "    f3_bits = []\n",
    "    f4_bits = []\n",
    "    for i in f1_list:\n",
    "        f1_bits.append(int(a[n-i]))\n",
    "    for i in f2_list:\n",
    "        f2_bits.append(int(a[n-i]))\n",
    "    for i in f3_list:\n",
    "        f3_bits.append(int(a[n-i]))\n",
    "    for i in f4_list:\n",
    "        f4_bits.append(int(a[n-i]))\n",
    "    #print(f1_bits)\n",
    "    #print(f2_bits)\n",
    "    #print(f3_bits)\n",
    "    #print(f4_bits)\n",
    "    f1 = count(f1_bits)\n",
    "    f2 = count(f2_bits)\n",
    "    f3 = count(f3_bits)\n",
    "    f4 = count(f4_bits)\n",
    "    f = f1 and f2 or f3\n",
    "\n",
    "    return (-1)**f"
   ]
  },
  {
   "cell_type": "code",
   "execution_count": null,
   "id": "bb84e0b1",
   "metadata": {},
   "outputs": [],
   "source": [
    "# Write a code to compute fourier coefficients and final alpha values as explained"
   ]
  },
  {
   "cell_type": "code",
   "execution_count": null,
   "id": "33884a3c",
   "metadata": {},
   "outputs": [],
   "source": [
    "# Verify your end result for following 3 points by compairing it with elements present in the original function \n",
    "# 1. Check for Elements correctly retrieved\n",
    "# 2. Elements retrieved but not present in the original function \n",
    "# 3. Elements present in the original function but not retrieved\n",
    "\n",
    "# Write your code here"
   ]
  },
  {
   "cell_type": "code",
   "execution_count": null,
   "id": "0d4b67b3",
   "metadata": {},
   "outputs": [],
   "source": [
    "# Compare total execution times of both and accuracy of the KM"
   ]
  },
  {
   "cell_type": "markdown",
   "id": "02cd78c8",
   "metadata": {},
   "source": [
    "## Optional 4: Examples for further practice"
   ]
  },
  {
   "cell_type": "code",
   "execution_count": null,
   "id": "d5f09a0a",
   "metadata": {},
   "outputs": [],
   "source": [
    "\"\"\"\n",
    "    Ex.3 (4 variables), Ex. Ref. 1 sec. 2.3.1  page no 8\n",
    "    f(x1,x2,x3,x4) = x1 AND x3 (x1 is lsb and x4 is msb, x=x4, y=x3, z=x2, w=x1)\n",
    "    f = [1,1,1,1,1,-1,1,-1,1,1,1,1,1,-1,1,-1]\n",
    "\"\"\"\n",
    "def f_val(a_int):\n",
    "    a = bin(a_int)[2:].zfill(n)\n",
    "    f = int(a[1]) and int(a[3])\n",
    "    return (-1)**f"
   ]
  },
  {
   "cell_type": "code",
   "execution_count": null,
   "id": "dc8c9ff1",
   "metadata": {},
   "outputs": [],
   "source": [
    "\"\"\"\n",
    "    Ex. 4 (40 variables), Ref. 1, sec. 3.1 page no 15\n",
    "    f = (x32 © x8 © x34 © x13) AND (x33 © x20 © x9 © x1 © x15 © x39) OR (x24 © x10 © x27 © x6 © x34)\n",
    "          \n",
    "\"\"\"\n",
    "def f_val(a_int):\n",
    "    a = bin(a_int)[2:].zfill(n)\n",
    "    f1 = int(a[40-32])^int(a[40-8])^int(a[40-34])^int(a[40-13])\n",
    "    f2 = int(a[40-33])^int(a[40-20])^int(a[40-9])^int(a[40-39])\n",
    "    f3 = int(a[40-24])^int(a[40-10])^int(a[40-27])^int(a[40-34])\n",
    "    f = f1 and f2 or f3\n",
    "\n",
    "    return (-1)**f"
   ]
  },
  {
   "cell_type": "code",
   "execution_count": null,
   "id": "0cbb4b16-ec9c-4d31-b5cb-0f18e2dc931b",
   "metadata": {},
   "outputs": [],
   "source": []
  },
  {
   "cell_type": "code",
   "execution_count": null,
   "id": "8e474965-fc2e-4569-89a6-30eeabe6cc45",
   "metadata": {},
   "outputs": [],
   "source": []
  },
  {
   "cell_type": "code",
   "execution_count": null,
   "id": "b84501ee-aeb7-4589-8902-b8be7f5d7b1e",
   "metadata": {},
   "outputs": [],
   "source": []
  },
  {
   "cell_type": "code",
   "execution_count": null,
   "id": "c7ecbf70-82fe-43e9-9e22-27e3a628a933",
   "metadata": {},
   "outputs": [],
   "source": []
  },
  {
   "cell_type": "code",
   "execution_count": null,
   "id": "f7e286ac-0b80-4ec3-9a98-d8fa62401955",
   "metadata": {},
   "outputs": [],
   "source": []
  },
  {
   "cell_type": "code",
   "execution_count": null,
   "id": "c4a71637-4606-460a-955b-cef3d4b5db38",
   "metadata": {},
   "outputs": [],
   "source": []
  },
  {
   "cell_type": "code",
   "execution_count": null,
   "id": "07627418-20e6-4ee0-b779-1b6e603852c1",
   "metadata": {},
   "outputs": [],
   "source": []
  },
  {
   "cell_type": "code",
   "execution_count": null,
   "id": "1a738e0c-01ec-4c74-932b-7a827f829703",
   "metadata": {},
   "outputs": [],
   "source": []
  },
  {
   "cell_type": "code",
   "execution_count": null,
   "id": "c8f7ebd2-22a5-466a-99a4-7d744d23fe69",
   "metadata": {},
   "outputs": [],
   "source": []
  }
 ],
 "metadata": {
  "kernelspec": {
   "display_name": "Python 3 (ipykernel)",
   "language": "python",
   "name": "python3"
  },
  "language_info": {
   "codemirror_mode": {
    "name": "ipython",
    "version": 3
   },
   "file_extension": ".py",
   "mimetype": "text/x-python",
   "name": "python",
   "nbconvert_exporter": "python",
   "pygments_lexer": "ipython3",
   "version": "3.10.12"
  },
  "widgets": {
   "application/vnd.jupyter.widget-state+json": {
    "state": {},
    "version_major": 2,
    "version_minor": 0
   }
  }
 },
 "nbformat": 4,
 "nbformat_minor": 5
}
